{
 "cells": [
  {
   "cell_type": "code",
   "execution_count": 1,
   "id": "e30df248-7495-4136-b71b-5104f7aef819",
   "metadata": {},
   "outputs": [],
   "source": [
    "import pandas as pd\n",
    "from sklearn.model_selection import train_test_split\n",
    "from sklearn.ensemble import GradientBoostingClassifier\n",
    "from sklearn.metrics import accuracy_score, classification_report, confusion_matrix"
   ]
  },
  {
   "cell_type": "code",
   "execution_count": 9,
   "id": "351cc6d9-de7f-41a3-9d41-c969475f48a8",
   "metadata": {},
   "outputs": [
    {
     "name": "stdout",
     "output_type": "stream",
     "text": [
      "Scikit-learn Gradient Boosting Classifier Results:\n",
      "Accuracy: 1.0\n",
      "Classification Report:\n",
      "               precision    recall  f1-score   support\n",
      "\n",
      "           0       1.00      1.00      1.00         1\n",
      "           1       1.00      1.00      1.00         1\n",
      "\n",
      "    accuracy                           1.00         2\n",
      "   macro avg       1.00      1.00      1.00         2\n",
      "weighted avg       1.00      1.00      1.00         2\n",
      "\n",
      "Confusion Matrix:\n",
      " [[1 0]\n",
      " [0 1]]\n"
     ]
    }
   ],
   "source": [
    "# Option 1: Using scikit-learn's GradientBoostingClassifier (most common)\n",
    "def gradient_boosting_classifier_sklearn(data, target_column, test_size=0.2, random_state=42, n_estimators=100, learning_rate=0.1, max_depth=3):\n",
    "    \"\"\"\n",
    "    Trains and evaluates a Gradient Boosting Classifier using scikit-learn.\n",
    "\n",
    "    Args:\n",
    "        data (pd.DataFrame): The dataset.\n",
    "        target_column (str): The name of the column containing the target variable.\n",
    "        test_size (float): The proportion of the dataset to use for testing.  Defaults to 0.2.\n",
    "        random_state (int): Random seed for reproducibility. Defaults to 42.\n",
    "        n_estimators (int): The number of boosting stages to perform. Defaults to 100.\n",
    "        learning_rate (float):  Shrinks the contribution of each tree by learning_rate. Defaults to 0.1.\n",
    "        max_depth (int): Maximum depth of the individual regression estimators. Defaults to 3.\n",
    "\n",
    "    Returns:\n",
    "        tuple: (trained_model, accuracy, classification_report, confusion_matrix)\n",
    "    \"\"\"\n",
    "\n",
    "    # 1. Prepare the data\n",
    "    X = data.drop(target_column, axis=1)\n",
    "    y = data[target_column]\n",
    "\n",
    "    # 2. Split the data into training and testing sets\n",
    "    X_train, X_test, y_train, y_test = train_test_split(X, y, test_size=test_size, random_state=random_state)\n",
    "\n",
    "    # 3. Create and train the Gradient Boosting Classifier\n",
    "    model = GradientBoostingClassifier(n_estimators=n_estimators, learning_rate=learning_rate, max_depth=max_depth, random_state=random_state)\n",
    "    model.fit(X_train, y_train)\n",
    "\n",
    "    # 4. Make predictions on the test set\n",
    "    y_pred = model.predict(X_test)\n",
    "\n",
    "    # 5. Evaluate the model\n",
    "    accuracy = accuracy_score(y_test, y_pred)\n",
    "    report = classification_report(y_test, y_pred)\n",
    "    cm = confusion_matrix(y_test, y_pred)\n",
    "\n",
    "    return model, accuracy, report, cm\n",
    "\n",
    "# Example usage (using scikit-learn)\n",
    "if __name__ == '__main__':\n",
    "    # Create a sample DataFrame (replace with your actual data)\n",
    "    data = pd.DataFrame({\n",
    "        'feature1': [1, 2, 3, 4, 5, 1, 2, 3, 4, 5],\n",
    "        'feature2': [5, 4, 3, 2, 1, 5, 4, 3, 2, 1],\n",
    "        'target':   [0, 0, 0, 1, 1, 0, 0, 1, 1, 1]\n",
    "    })\n",
    "\n",
    "    # Specify the target column\n",
    "    target_column = 'target'\n",
    "\n",
    "    # Train and evaluate the model using scikit-learn\n",
    "    model, accuracy, report, cm = gradient_boosting_classifier_sklearn(data, target_column)\n",
    "\n",
    "    print(\"Scikit-learn Gradient Boosting Classifier Results:\")\n",
    "    print(f\"Accuracy: {accuracy}\")\n",
    "    print(\"Classification Report:\\n\", report)\n",
    "    print(\"Confusion Matrix:\\n\", cm)"
   ]
  },
  {
   "cell_type": "code",
   "execution_count": null,
   "id": "0fed9010-2641-4858-83c9-741792eb194a",
   "metadata": {},
   "outputs": [],
   "source": []
  },
  {
   "cell_type": "code",
   "execution_count": null,
   "id": "71c53d3c-edab-4e78-8452-8b08a277283f",
   "metadata": {},
   "outputs": [],
   "source": []
  }
 ],
 "metadata": {
  "kernelspec": {
   "display_name": "Python 3 (ipykernel)",
   "language": "python",
   "name": "python3"
  },
  "language_info": {
   "codemirror_mode": {
    "name": "ipython",
    "version": 3
   },
   "file_extension": ".py",
   "mimetype": "text/x-python",
   "name": "python",
   "nbconvert_exporter": "python",
   "pygments_lexer": "ipython3",
   "version": "3.12.4"
  }
 },
 "nbformat": 4,
 "nbformat_minor": 5
}
