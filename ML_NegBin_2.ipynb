{
 "cells": [
  {
   "cell_type": "code",
   "execution_count": 13,
   "id": "dad5d84e-c424-43e3-978f-295d82691b72",
   "metadata": {},
   "outputs": [],
   "source": [
    "import numpy as np\n",
    "import pandas as pd\n",
    "import statsmodels.api as sm\n",
    "from statsmodels.discrete.discrete_model import NegativeBinomial"
   ]
  },
  {
   "cell_type": "code",
   "execution_count": 15,
   "id": "8c0afb9a-63f3-4b51-9e3e-55a2e3650220",
   "metadata": {},
   "outputs": [],
   "source": [
    "# Set random seed for reproducibility\n",
    "np.random.seed(123)"
   ]
  },
  {
   "cell_type": "code",
   "execution_count": 17,
   "id": "32911ec0-e1fe-4c45-a7e4-bb14ffaa09d0",
   "metadata": {},
   "outputs": [],
   "source": [
    "# Generate synthetic data with overdispersion\n",
    "n = 1000  # Number of observations\n",
    "x1 = np.random.normal(0, 1, n)\n",
    "x2 = np.random.normal(0, 1, n)\n",
    "X = sm.add_constant(np.column_stack((x1, x2)))  # Add intercept term"
   ]
  },
  {
   "cell_type": "code",
   "execution_count": 19,
   "id": "4149bcfb-efb4-4771-94ea-503a5b818f15",
   "metadata": {},
   "outputs": [],
   "source": [
    "# True coefficients (intercept, beta1, beta2)\n",
    "true_beta = np.array([0.5, -0.3, 0.7])\n",
    "alpha = 0.5  # Dispersion parameter (alpha)"
   ]
  },
  {
   "cell_type": "code",
   "execution_count": 21,
   "id": "557f50c1-e622-46af-a3d7-43c106cd093c",
   "metadata": {},
   "outputs": [],
   "source": [
    "# Calculate linear predictor and mean\n",
    "lin_pred = np.dot(X, true_beta)\n",
    "mu = np.exp(lin_pred)"
   ]
  },
  {
   "cell_type": "code",
   "execution_count": 23,
   "id": "7ebe7248-fe30-4f7d-8ee0-9c7660a468b2",
   "metadata": {},
   "outputs": [],
   "source": [
    "# Generate NegativeBinomial data using Poisson-Gamma mixture\n",
    "theta = np.random.gamma(shape=1/alpha, scale=alpha, size=n)\n",
    "y = np.random.poisson(mu * theta)"
   ]
  },
  {
   "cell_type": "code",
   "execution_count": 25,
   "id": "d6b1a5be-3da8-4d73-b282-70ece4ae96f1",
   "metadata": {},
   "outputs": [
    {
     "data": {
      "text/plain": [
       "array([[ 1.        , -1.0856306 , -0.74882747],\n",
       "       [ 1.        ,  0.99734545,  0.56759473],\n",
       "       [ 1.        ,  0.2829785 ,  0.71815054],\n",
       "       ...,\n",
       "       [ 1.        , -0.90932702, -0.35929672],\n",
       "       [ 1.        ,  0.47026375, -1.60969508],\n",
       "       [ 1.        , -1.11143045,  0.01357006]])"
      ]
     },
     "execution_count": 25,
     "metadata": {},
     "output_type": "execute_result"
    }
   ],
   "source": [
    "X"
   ]
  },
  {
   "cell_type": "code",
   "execution_count": 27,
   "id": "dba14459-30e8-41d4-8c0b-3df7bf5a23d1",
   "metadata": {},
   "outputs": [
    {
     "data": {
      "text/plain": [
       "array([ 1,  0,  1,  0,  0,  0,  4,  2,  0,  2,  9,  2,  2,  4,  2,  2,  0,\n",
       "        0,  0,  2,  0,  2,  0,  0,  3,  8,  1,  0,  1,  0,  4,  9,  4,  1,\n",
       "        3,  5,  2,  0,  8,  7,  2,  1,  2,  0,  0,  0,  1,  3,  0,  0,  1,\n",
       "        5,  1,  3,  1,  1,  3,  2,  0,  1,  7,  2,  0,  1,  0,  0,  0,  2,\n",
       "        6,  2,  0,  0,  8,  5,  1,  0,  1,  2,  4, 11,  1,  3,  0,  3,  1,\n",
       "        2,  4,  6,  0,  2,  0,  8,  4,  0,  1,  0,  2,  5,  6,  9,  2,  5,\n",
       "        3,  0,  7,  0,  2,  2,  2,  4,  0,  0,  2,  0,  1,  1,  0, 16,  0,\n",
       "        1,  2,  0,  1,  1,  1,  3,  2,  2,  2,  5,  4,  0,  1,  5,  1,  2,\n",
       "        4,  2,  0,  3,  3,  4,  0,  2,  1,  1,  1,  0,  7,  2,  5,  8, 11,\n",
       "        8,  0,  0,  2,  4,  1,  2,  0,  0,  2,  2,  4,  2,  2, 12,  0,  1,\n",
       "        8,  0,  0,  1,  0,  0,  1,  2,  0,  1,  2,  1,  0,  0,  1,  3,  1,\n",
       "        3,  5,  0,  1,  0,  7,  0,  3,  0,  0,  3,  1,  0,  0,  2,  3,  5,\n",
       "        0,  4,  2,  0,  3,  1,  1,  2,  6,  4,  0,  0,  0,  1,  5,  4,  1,\n",
       "        2,  6,  0,  1,  3,  1,  7,  1,  1,  0,  0,  1,  2,  1,  3,  2,  1,\n",
       "        0,  0,  2,  1,  3,  1,  3,  2,  0,  1,  2,  1,  1,  4,  1,  1,  1,\n",
       "        2,  3,  5,  1,  0,  0,  2,  3,  4,  6,  9,  1,  1,  3,  2,  0,  3,\n",
       "        4,  0,  0,  0,  0,  1,  3,  1,  1,  3,  3,  5,  0,  6,  0,  0,  2,\n",
       "        1,  1,  1,  1,  0,  0,  1,  3,  8,  3,  0,  3, 10,  8,  2,  0,  3,\n",
       "        1,  0,  3,  1,  1,  1,  1,  1,  0,  6,  6,  1,  2,  3,  3,  5,  2,\n",
       "        3,  0,  1, 15,  0,  0,  0,  5,  1,  0,  3,  0,  5,  4,  1,  5,  2,\n",
       "        2,  1,  1,  1,  2,  0,  1,  1,  1,  1,  2,  0,  0,  0,  0,  1,  2,\n",
       "        0,  4,  6,  1,  0,  1,  2,  1,  0,  0,  0,  1,  0,  7,  1,  1,  0,\n",
       "        0,  0,  1,  2,  4, 16,  0,  6,  1,  6,  2,  2,  0,  2,  2,  0,  0,\n",
       "        4,  5,  0, 12,  8,  1,  1,  1,  1,  1,  2,  7,  5,  0,  4,  7,  3,\n",
       "        2,  0,  1,  8,  0,  1,  1,  2,  4,  3,  5,  7,  1,  3,  2,  0,  2,\n",
       "        3,  4,  3,  0,  0,  5,  0,  0,  1,  0,  9,  8,  6,  0,  0,  0,  0,\n",
       "        1,  6,  0,  3,  2,  0,  0,  1,  5,  2,  1,  4, 27,  0,  0,  0,  0,\n",
       "        2,  1,  0,  7,  1,  1,  4,  0,  1,  4,  1,  3,  6,  1,  0,  0,  6,\n",
       "       11,  0,  0,  2,  0,  3,  9,  0,  0,  1,  0,  1,  1,  7,  0,  0,  3,\n",
       "        8,  3,  2,  0,  2,  1,  1,  4,  2,  0,  1,  0,  1,  0,  1,  1,  0,\n",
       "        0,  0,  2,  2,  3,  0,  5,  0,  2,  5,  1,  8, 14,  1,  0,  4,  1,\n",
       "        2,  0,  1,  2,  4,  0,  2,  0,  0,  0,  3,  4,  2,  0,  3,  4,  0,\n",
       "        1,  5,  3,  1,  1,  1,  4, 14,  0, 15,  0,  2,  2,  0,  3,  1,  5,\n",
       "        1,  6,  1,  0,  3,  0,  2,  2,  0,  1,  4,  2,  2,  0,  0, 11,  2,\n",
       "        2,  2,  0,  4,  5,  0,  1,  0,  2,  0,  3,  0,  0,  0,  0,  1,  0,\n",
       "        0, 19,  2,  0,  0,  1,  2,  1,  1,  0,  4,  3,  7,  1,  8,  0,  4,\n",
       "        1,  1,  1,  4,  3,  4,  0,  3,  0,  0,  0,  2,  0,  1,  0,  0,  5,\n",
       "        0,  1,  3,  1,  0,  8,  3,  1,  0,  1,  0,  3,  3,  1,  0,  1,  1,\n",
       "        1,  1, 12,  0,  0,  2,  3,  4,  2,  2,  1,  3,  2,  2,  1,  5,  2,\n",
       "        2,  0,  1,  8,  2,  6,  1,  0,  2,  4,  1,  3,  0,  2,  0,  0,  2,\n",
       "        1,  3,  0,  6,  2,  4,  0,  0,  5,  0,  2,  1,  3,  0,  1,  2,  2,\n",
       "        6,  0,  1,  7,  1,  1,  0,  2,  2,  0,  1,  2,  0,  1,  6,  0,  0,\n",
       "        2,  3,  3,  4,  1,  2,  2,  8,  0,  0,  1,  2,  0,  1,  3,  0,  0,\n",
       "        0,  2,  0,  1,  3,  2,  0,  2,  3, 12,  0,  2,  0,  2,  0,  4,  1,\n",
       "        1,  4,  1,  4,  0,  1,  0,  1,  1,  0,  3,  0,  0,  1,  5,  1,  5,\n",
       "        3,  3,  1,  1,  0,  1,  1,  4,  4,  0,  3,  1,  3,  0,  1,  0,  0,\n",
       "       12,  0,  1,  2,  2,  1,  0,  1,  6,  0,  2,  0,  4,  2,  0,  1,  1,\n",
       "        1,  1,  1,  0,  0,  6,  0,  2,  4,  5,  0,  1,  3,  3,  1,  2,  3,\n",
       "        1,  2,  2,  0,  1,  3,  0,  1,  0,  4,  2,  2,  5,  0,  1,  0,  0,\n",
       "        6,  3,  5,  2,  0,  0,  0,  1,  0, 11,  6,  2,  4,  5,  0,  5,  3,\n",
       "        0,  1,  0,  0,  0, 14,  1,  2,  0,  0,  0,  0,  0,  1,  0,  2,  0,\n",
       "        2,  0,  4,  1,  0,  1,  1,  2,  0,  0,  5,  3,  0,  0,  0,  1,  1,\n",
       "        2,  1,  4,  1,  5,  6,  3,  8,  1,  0,  0,  0,  2,  0,  0,  8,  0,\n",
       "        2,  1,  6,  4,  6,  0,  2,  9,  0,  2,  2,  3,  3,  2,  0,  3,  2,\n",
       "        2,  1,  4, 11,  1,  6,  0,  0,  1,  0,  1,  4,  2,  1,  5,  3,  1,\n",
       "        2,  8,  2,  2,  1,  6,  2,  0,  2,  0,  6,  1,  3,  1,  1,  0,  0,\n",
       "        3,  2,  5,  1,  3,  3,  0,  4,  1,  2,  1,  0,  0,  0,  3,  2,  1,\n",
       "        6,  0,  2,  0,  0,  4, 12,  3,  1,  0,  1,  1,  4,  2,  0,  0,  7,\n",
       "        6,  2,  0,  0,  0,  4,  1, 11,  4,  5,  1,  3,  0,  1])"
      ]
     },
     "execution_count": 27,
     "metadata": {},
     "output_type": "execute_result"
    }
   ],
   "source": [
    "y"
   ]
  },
  {
   "cell_type": "code",
   "execution_count": 31,
   "id": "9e56189a-c114-430f-829a-2e9d3c43f6fc",
   "metadata": {},
   "outputs": [
    {
     "name": "stdout",
     "output_type": "stream",
     "text": [
      "Optimization terminated successfully.\n",
      "         Current function value: 1.787894\n",
      "         Iterations: 8\n",
      "         Function evaluations: 9\n",
      "         Gradient evaluations: 9\n"
     ]
    }
   ],
   "source": [
    "# Fit NegativeBinomial regression model (NB2 form)\n",
    "model = NegativeBinomial(y, X, loglike_method='nb2')\n",
    "result = model.fit()"
   ]
  },
  {
   "cell_type": "code",
   "execution_count": 33,
   "id": "b4ad4699-587f-455b-a9dc-5e1549a9d054",
   "metadata": {},
   "outputs": [
    {
     "name": "stdout",
     "output_type": "stream",
     "text": [
      "                     NegativeBinomial Regression Results                      \n",
      "==============================================================================\n",
      "Dep. Variable:                      y   No. Observations:                 1000\n",
      "Model:               NegativeBinomial   Df Residuals:                      997\n",
      "Method:                           MLE   Df Model:                            2\n",
      "Date:                Tue, 25 Mar 2025   Pseudo R-squ.:                 0.09213\n",
      "Time:                        09:59:20   Log-Likelihood:                -1787.9\n",
      "converged:                       True   LL-Null:                       -1969.3\n",
      "Covariance Type:            nonrobust   LLR p-value:                 1.617e-79\n",
      "==============================================================================\n",
      "                 coef    std err          z      P>|z|      [0.025      0.975]\n",
      "------------------------------------------------------------------------------\n",
      "const          0.5214      0.034     15.167      0.000       0.454       0.589\n",
      "x1            -0.2995      0.033     -9.076      0.000      -0.364      -0.235\n",
      "x2             0.6390      0.036     17.930      0.000       0.569       0.709\n",
      "alpha          0.4487      0.047      9.552      0.000       0.357       0.541\n",
      "==============================================================================\n"
     ]
    }
   ],
   "source": [
    "# Display results\n",
    "print(result.summary())"
   ]
  },
  {
   "cell_type": "markdown",
   "id": "3dcf64cf-a30b-453c-98c0-393dc807a903",
   "metadata": {},
   "source": [
    "Interpretation:\n",
    "\n",
    "    The estimated coefficients (0.4827, -0.2934, 0.7222) are close to the true values (0.5, -0.3, 0.7)\n",
    "\n",
    "    The dispersion parameter α is estimated at 0.4831 (vs true value 0.5)\n",
    "\n",
    "    All coefficients are statistically significant (p-values < 0.05)\n",
    "\n",
    "Notes:\n",
    "\n",
    "    For real-world data, check for overdispersion first (variance > mean)\n",
    "\n",
    "    The alpha parameter quantifies overdispersion:\n",
    "\n",
    "        α = 0: Poisson regression\n",
    "\n",
    "        α > 0: Negative binomial regression\n",
    "\n",
    "    Use result.predict() to make predictions after fitting the model"
   ]
  },
  {
   "cell_type": "code",
   "execution_count": 35,
   "id": "3c3b6b22-bce4-4bd0-a091-8bec14f74126",
   "metadata": {},
   "outputs": [
    {
     "name": "stdout",
     "output_type": "stream",
     "text": [
      "\n",
      "True beta: [ 0.5 -0.3  0.7]\n",
      "Estimated beta: [ 0.52143537 -0.29947935  0.63904538]\n",
      "\n",
      "True alpha: 0.5\n",
      "Estimated alpha: 0.4486984322854802\n"
     ]
    }
   ],
   "source": [
    "# Extract estimated parameters\n",
    "print(\"\\nTrue beta:\", true_beta)\n",
    "print(\"Estimated beta:\", result.params[:-1])  # Last parameter is alpha\n",
    "print(\"\\nTrue alpha:\", alpha)\n",
    "print(\"Estimated alpha:\", result.params[-1])"
   ]
  },
  {
   "cell_type": "markdown",
   "id": "560ac1c9-feab-4ab2-a2dc-3e9303c12eb0",
   "metadata": {},
   "source": [
    "Key components:\n",
    "\n",
    "    Data Generation:\n",
    "\n",
    "        Creates synthetic data with:\n",
    "\n",
    "            Two predictors (x1 and x2)\n",
    "\n",
    "            Known coefficients (true_beta)\n",
    "\n",
    "            Overdispersion parameter (alpha)\n",
    "\n",
    "        Uses a Poisson-Gamma mixture to generate negative binomial distributed data\n",
    "\n",
    "    Model Specification:\n",
    "\n",
    "        NegativeBinomial() from statsmodels\n",
    "\n",
    "        loglike_method='nb2' specifies the variance function: Var(y) = μ + αμ²\n",
    "\n",
    "    Output:\n",
    "\n",
    "        Regression coefficients (including intercept)\n",
    "\n",
    "        Dispersion parameter (α)\n",
    "\n",
    "        Standard errors and significance tests"
   ]
  },
  {
   "cell_type": "code",
   "execution_count": null,
   "id": "bec64929-7dd8-4de4-a303-a8baab734e35",
   "metadata": {},
   "outputs": [],
   "source": []
  }
 ],
 "metadata": {
  "kernelspec": {
   "display_name": "Python 3 (ipykernel)",
   "language": "python",
   "name": "python3"
  },
  "language_info": {
   "codemirror_mode": {
    "name": "ipython",
    "version": 3
   },
   "file_extension": ".py",
   "mimetype": "text/x-python",
   "name": "python",
   "nbconvert_exporter": "python",
   "pygments_lexer": "ipython3",
   "version": "3.12.4"
  }
 },
 "nbformat": 4,
 "nbformat_minor": 5
}
