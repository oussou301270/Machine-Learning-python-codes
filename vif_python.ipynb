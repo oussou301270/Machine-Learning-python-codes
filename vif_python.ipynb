{
 "cells": [
  {
   "cell_type": "markdown",
   "id": "112480d5-74d1-4f7a-863d-8a2a2a5c4c66",
   "metadata": {},
   "source": [
    "### Variance Inflation Factor (VIF): Addressing Multicollinearity in Regression Analysis"
   ]
  },
  {
   "cell_type": "markdown",
   "id": "527772c9-fb90-4c6c-91ed-48077af57537",
   "metadata": {},
   "source": [
    "Learn how to detect multicollinearity in regression models using the variance inflation factor (VIF), a key diagnostic tool. This tutorial explains how VIF is calculated, how to interpret its values, and techniques for addressing high VIF to improve the reliability of your regression modeling."
   ]
  },
  {
   "cell_type": "markdown",
   "id": "118353f4-e7a9-4fd9-b586-8e2f49df2d50",
   "metadata": {},
   "source": [
    "In regression analysis, multicollinearity occurs when independent variables are correlated with each other. This makes it difficult to determine the unique influence of each predictor on the dependent variable. As a result, you have inflated standard errors, which in turn affects the significance of coefficients.\n",
    "\n",
    "The variance inflation factor (VIF) is a great tool for detecting multicollinearity, offering insights beyond simple pairwise correlations. This tutorial explains how VIF works, how to calculate and interpret it, and what to do if you find high VIF values. These steps will help you as data professionals and data scientists to improve your model’s stability.\n",
    "\n",
    "Now, while VIF is an important diagnostic tool and it’s well worth learning, it represents just a small part of the broader skill set you'll develop in our Machine Learning Scientist in Python career track, so enroll today."
   ]
  },
  {
   "cell_type": "markdown",
   "id": "488a2c45-44aa-425b-a8c9-2d22f43a27a1",
   "metadata": {},
   "source": [
    "### What is Variance Inflation Factor (VIF)?\n",
    "\n",
    "Developed by statistician Cuthbert Daniel, VIF is a widely used diagnostic tool in regression analysis to detect multicollinearity, which is known to affect the stability and interpretability of regression coefficients. More technically, VIF works by quantifying how much the variance of a regression coefficient is inflated due to correlations among predictors. \n",
    "\n",
    "All of this is important because these correlations make it difficult to isolate the unique effect of each predictor on the target variable, leading to less reliable model estimates. I should also say that, in order to really tell the right story, VIF is always calculated for each predictor in a model. "
   ]
  },
  {
   "cell_type": "markdown",
   "id": "a7f02b5b-2d1d-4074-ad9c-77599d674a4f",
   "metadata": {},
   "source": [
    "The variance inflation factor formula\n",
    "\n",
    "The VIF for a predictor X is calculated as: \n",
    "\n",
    "Variance inflation factor (VIF) formula  1 - R2\n",
    "\n",
    "Where: \n",
    "    R2 is the coefficient of determination obtained when X​ is regressed on all other predictors.\n"
   ]
  },
  {
   "cell_type": "markdown",
   "id": "00c36063-ffe6-4d24-8a22-c052c199c108",
   "metadata": {},
   "source": [
    "### Step-by-step calculation\n",
    "\n",
    "Finding VIF is a three-step process. The first step is to fit a separate linear regression model for each predictor against all other predictors. The second step is to obtain the R2 value for each model. The final step is to calculate VIF using the formula above."
   ]
  },
  {
   "cell_type": "markdown",
   "id": "96bce1f7-b233-4a80-bf41-638912c84a73",
   "metadata": {},
   "source": [
    "### Interpretation of VIF Values\n",
    "\n",
    "Here’s how to interpret VIF values to understand the level of multicollinearity:\n",
    "\n",
    "    VIF = 1: This indicates no multicollinearity. The predictor is not correlated with other predictors, so it doesn’t inflate the standard error or affect the model’s stability.\n",
    "    VIF between 1 and 5: This suggests moderate multicollinearity. There’s some correlation with other predictors, but it’s usually not severe. However, it’s worth keeping an eye on these predictors to see if multicollinearity becomes a problem, especially if other VIF values are high.\n",
    "    VIF > 5: High multicollinearity is present. The predictor’s standard error may be noticeably inflated, which can make its coefficient less reliable. Consider taking steps to reduce multicollinearity, like removing or combining correlated predictors.\n",
    "    VIF > 10: This signals serious multicollinearity. The predictor’s standard error is highly inflated, and its coefficient estimate is likely unstable. Corrective actions, such as removing the predictor or using regularization techniques, are usually needed.\n",
    "\n",
    "For instance, if a predictor’s VIF is 10, it indicates that the variance of that predictor’s coefficient is 10 times what it would be if there were no multicollinearity. "
   ]
  },
  {
   "cell_type": "markdown",
   "id": "005e9b76-f8b1-4caf-a748-70693d8c1dd8",
   "metadata": {},
   "source": [
    "### How the VIF Explains Multicollinearity in Regression\n",
    "\n",
    "Multicollinearity causes standard errors to increase, which makes it harder to assess the significance of individual predictors. This happens because collinear variables carry similar information, making it difficult to separate their specific individual effects on the outcome variable. \n",
    "\n",
    "Although multicollinearity doesn’t necessarily harm the model’s ability to predict, it does reduce the reliability and clarity of the coefficients. This is especially problematic when we want to understand the individual impact of each predictor.\n",
    "\n",
    "The variance inflation factor (VIF) serves as a precise diagnostic metric to identify multicollinearity. Unlike general observations about correlation, VIF isolates the combined effect of all predictors on each variable, highlighting interactions that might not be evident from pairwise correlations. "
   ]
  },
  {
   "cell_type": "markdown",
   "id": "5561c489-9dfa-4f40-9730-d866fde425f6",
   "metadata": {},
   "source": [
    "### Dataset Overview:\n",
    "\n",
    "This fictitious dataset represents survey results from a study conducted across 1,000 stores of a retail giant. Customers at each store were asked to rate various aspects of their shopping experience on a scale from -5 to +5, where -5 indicates a very negative experience, and +5 indicates a very positive experience. The average of the customer ratings at each store was taken across four key parameters:\n",
    "\n",
    "    Ambience: Customer perception of the store's environment, such as cleanliness, layout, lighting, and overall atmosphere. \n",
    "\n",
    "    Customer_service: Rating of the service provided by store staff, including helpfulness, friendliness, and responsiveness to customer needs.\n",
    "\n",
    "    Offers: Rating of the store's promotional offers, discounts, and deals available to customers.\n",
    "\n",
    "    Product_range: Evaluation of the variety and quality of products available in the store.\n",
    "    \n",
    "The target variable, Performance, measures the overall performance of each store. "
   ]
  },
  {
   "cell_type": "code",
   "execution_count": 12,
   "id": "d27d79b3-3ce0-43e1-8fb7-82ef0164f876",
   "metadata": {},
   "outputs": [],
   "source": [
    "from sklearn.linear_model import LinearRegression\n",
    "from sklearn.metrics import r2_score\n",
    "import pandas as pd\n",
    "import numpy as np\n",
    "import matplotlib.pyplot as plt\n",
    "import seaborn as sns\n",
    "from statsmodels.stats.outliers_influence import variance_inflation_factor\n",
    "from statsmodels.tools.tools import add_constant"
   ]
  },
  {
   "cell_type": "code",
   "execution_count": 15,
   "id": "d631d509-e904-4ff5-be66-491e0a4b5423",
   "metadata": {},
   "outputs": [],
   "source": [
    "datacamp_retail_data = pd.read_csv('vif_data.csv')"
   ]
  },
  {
   "cell_type": "code",
   "execution_count": 17,
   "id": "12301792-3d74-4fd9-83b7-f62b05b3841b",
   "metadata": {},
   "outputs": [
    {
     "data": {
      "text/html": [
       "<div>\n",
       "<style scoped>\n",
       "    .dataframe tbody tr th:only-of-type {\n",
       "        vertical-align: middle;\n",
       "    }\n",
       "\n",
       "    .dataframe tbody tr th {\n",
       "        vertical-align: top;\n",
       "    }\n",
       "\n",
       "    .dataframe thead th {\n",
       "        text-align: right;\n",
       "    }\n",
       "</style>\n",
       "<table border=\"1\" class=\"dataframe\">\n",
       "  <thead>\n",
       "    <tr style=\"text-align: right;\">\n",
       "      <th></th>\n",
       "      <th>Ambience</th>\n",
       "      <th>Customer_service</th>\n",
       "      <th>Offers</th>\n",
       "      <th>Product_range</th>\n",
       "      <th>Performance</th>\n",
       "    </tr>\n",
       "  </thead>\n",
       "  <tbody>\n",
       "    <tr>\n",
       "      <th>0</th>\n",
       "      <td>0.50</td>\n",
       "      <td>1.40</td>\n",
       "      <td>-0.68</td>\n",
       "      <td>0.48</td>\n",
       "      <td>2</td>\n",
       "    </tr>\n",
       "    <tr>\n",
       "      <th>1</th>\n",
       "      <td>-0.14</td>\n",
       "      <td>0.92</td>\n",
       "      <td>-0.14</td>\n",
       "      <td>0.11</td>\n",
       "      <td>7</td>\n",
       "    </tr>\n",
       "    <tr>\n",
       "      <th>2</th>\n",
       "      <td>0.65</td>\n",
       "      <td>0.06</td>\n",
       "      <td>-0.79</td>\n",
       "      <td>0.51</td>\n",
       "      <td>5</td>\n",
       "    </tr>\n",
       "    <tr>\n",
       "      <th>3</th>\n",
       "      <td>1.52</td>\n",
       "      <td>-0.65</td>\n",
       "      <td>-0.31</td>\n",
       "      <td>1.12</td>\n",
       "      <td>9</td>\n",
       "    </tr>\n",
       "    <tr>\n",
       "      <th>4</th>\n",
       "      <td>-0.23</td>\n",
       "      <td>0.70</td>\n",
       "      <td>-1.89</td>\n",
       "      <td>1.10</td>\n",
       "      <td>8</td>\n",
       "    </tr>\n",
       "  </tbody>\n",
       "</table>\n",
       "</div>"
      ],
      "text/plain": [
       "   Ambience  Customer_service  Offers  Product_range  Performance\n",
       "0      0.50              1.40   -0.68           0.48            2\n",
       "1     -0.14              0.92   -0.14           0.11            7\n",
       "2      0.65              0.06   -0.79           0.51            5\n",
       "3      1.52             -0.65   -0.31           1.12            9\n",
       "4     -0.23              0.70   -1.89           1.10            8"
      ]
     },
     "execution_count": 17,
     "metadata": {},
     "output_type": "execute_result"
    }
   ],
   "source": [
    "datacamp_retail_data.head()"
   ]
  },
  {
   "cell_type": "markdown",
   "id": "942bf524-4f57-4a34-8112-bffe0839de28",
   "metadata": {},
   "source": [
    "As a next step, we can run a correlation matrix to check for pairwise correlation. \n",
    "\n",
    "The code below selects four columns and stores them in a new DataFrame called correl_data. It then computes the pairwise correlation matrix using the .corr() function. The result is stored in the object, corr_matrix, which is a table showing the correlation coefficients between each pair of the selected columns. \n",
    "\n",
    "The matrix is then visualized using Seaborn's heatmap() function, displaying each correlation coefficient as a color-coded cell, where blue represents negative correlations and red represents positive correlations, based on the coolwarm color map. "
   ]
  },
  {
   "cell_type": "code",
   "execution_count": 20,
   "id": "0263ec79-129e-4e02-b3bf-bf748c89b673",
   "metadata": {},
   "outputs": [
    {
     "data": {
      "image/png": "[encoded data removed]",
      "text/plain": [
       "<Figure size 1000x800 with 2 Axes>"
      ]
     },
     "metadata": {},
     "output_type": "display_data"
    }
   ],
   "source": [
    "correl_data = datacamp_retail_data[['Ambience', 'Customer_service', 'Offers', 'Product_range']]\n",
    "\n",
    "# Compute the pairwise correlation matrix\n",
    "corr_matrix = correl_data.corr()\n",
    "\n",
    "# Visualize the correlation matrix\n",
    "plt.figure(figsize=(10, 8))\n",
    "sns.heatmap(corr_matrix, annot=True, cmap='coolwarm', vmin=-1, vmax=1)\n",
    "plt.title('Pairwise Correlation Matrix')\n",
    "plt.show()"
   ]
  },
  {
   "cell_type": "markdown",
   "id": "2381800a-2844-4317-860a-673f8838ad38",
   "metadata": {},
   "source": [
    "The plot provides a visual summary of relationships between variables in correl_data. The correlation values range from -1 to 1, where values closer to 1 indicate a strong positive correlation, values closer to -1 indicate a strong negative correlation, and values around 0 suggest no correlation. It is evident that there is no strong pairwise correlation amongst the variables, with none of the correlation values being greater than even 0.6. "
   ]
  },
  {
   "cell_type": "markdown",
   "id": "ddba2331-6f59-44bc-9f9b-13baf3995cd2",
   "metadata": {},
   "source": [
    "The next step is to calculate the VIF values for the predictor variables. The code below calculates the values for each predictor variable in the dataset to check for multicollinearity. \n",
    "\n",
    "First, it defines X by removing the target column Performance and adding an intercept. Then, it creates a DataFrame, datacamp_vif_data,  to store the predictor names and their VIF values. Using a loop, it then calculates the VIF for each predictor with the variance_inflation_factor() function, where higher VIFs indicate presence of multicollinearity. "
   ]
  },
  {
   "cell_type": "code",
   "execution_count": 24,
   "id": "f44ca6bc-1bb0-48e3-8d07-f5f01da43b2c",
   "metadata": {},
   "outputs": [
    {
     "name": "stdout",
     "output_type": "stream",
     "text": [
      "            Feature       VIF\n",
      "0             const  1.005825\n",
      "1          Ambience  3.007933\n",
      "2  Customer_service  2.543664\n",
      "3            Offers  2.582033\n",
      "4     Product_range  5.942743\n"
     ]
    }
   ],
   "source": [
    "# Define the predictor variables\n",
    "X = datacamp_retail_data.drop(columns=['Performance'])\n",
    "\n",
    "# Add a constant to the model (intercept)\n",
    "X = add_constant(X)\n",
    "\n",
    "# Calculate VIF for each feature\n",
    "datacamp_vif_data = pd.DataFrame()\n",
    "datacamp_vif_data['Feature'] = X.columns\n",
    "datacamp_vif_data['VIF'] = [variance_inflation_factor(X.values, i) for i in range(X.shape[1])]\n",
    "print(datacamp_vif_data)"
   ]
  },
  {
   "cell_type": "markdown",
   "id": "da3687f8-055d-4fda-a791-9a4aab0c9f9f",
   "metadata": {},
   "source": [
    "This output shows the VIF value for each predictor variable, indicating multicollinearity levels in the dataset. The const row represents the intercept term, with a VIF close to 1, meaning it has no multicollinearity. Among the predictor variables, Product_range has the highest VIF (5.94), which suggests that it needs corrective measures. All the other predictors have VIF values below 3, indicating low multicollinearity. "
   ]
  },
  {
   "cell_type": "code",
   "execution_count": null,
   "id": "987ec1c2-14ce-4c35-854f-48d476e01c03",
   "metadata": {},
   "outputs": [],
   "source": []
  }
 ],
 "metadata": {
  "kernelspec": {
   "display_name": "Python 3 (ipykernel)",
   "language": "python",
   "name": "python3"
  },
  "language_info": {
   "codemirror_mode": {
    "name": "ipython",
    "version": 3
   },
   "file_extension": ".py",
   "mimetype": "text/x-python",
   "name": "python",
   "nbconvert_exporter": "python",
   "pygments_lexer": "ipython3",
   "version": "3.12.4"
  }
 },
 "nbformat": 4,
 "nbformat_minor": 5
}
